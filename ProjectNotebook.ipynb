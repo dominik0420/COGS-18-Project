{
 "cells": [
  {
   "cell_type": "markdown",
   "metadata": {},
   "source": [
    "# Project Description: Kanye West Discography Trivia!!!"
   ]
  },
  {
   "cell_type": "markdown",
   "metadata": {},
   "source": [
    "This coding project is written to produce a trivia on my favourite singer-songwriter, rapper, producer, and artist Kanye West's discography.\n",
    "\n",
    "The Trivia only offers 3 questions each time. After the trivia, you will see a rank and a description of your rank. To get a higher rank, try the trivia multiple times!\n",
    "\n",
    "I used a class to put a promptbook into prompt database. I also wrote two functions, one accessing the database to extract them and provide for the users. The other function is to determine the rank of the user by matching their score with the rank dictionary, and print out the rank for them after one turn of trivia is done. "
   ]
  },
  {
   "cell_type": "markdown",
   "metadata": {},
   "source": [
    "## Project Code\n",
    "\n",
    "If it makes sense for your project, you can have code and outputs here in the notebook as well."
   ]
  },
  {
   "cell_type": "code",
   "execution_count": null,
   "metadata": {},
   "outputs": [],
   "source": [
    "#from my_module.functions import ...\n",
    "\n",
    "#Import the class\n",
    "from my_module.classes import QnA\n",
    "\n",
    "#import the questionbook\n",
    "from my_module.classes import promptbook\n",
    "\n",
    "#import question pick function\n",
    "from my_module.functions import question_pick\n",
    "\n",
    "#import tests\n",
    "from my_module.test_functions import direct_test, rank_test"
   ]
  },
  {
   "cell_type": "code",
   "execution_count": null,
   "metadata": {},
   "outputs": [
    {
     "name": "stdout",
     "output_type": "stream",
     "text": [
      "Which of the following albums is not produced by Kanye West?\n",
      "A.DAYTONA\n",
      "B.The Blueprint 3\n",
      "C.Astroworld\n",
      "D.NASIR\n"
     ]
    }
   ],
   "source": [
    "#If you are running this trivia for the FIRST TIME, please replace '#your current score' with 0 (ZERO).\n",
    "#If you ran the test and you want a higher rank, please replace '#your current score' with your latest score.\n",
    "#Good luck!\n",
    "score = question_pick(promptbook, 0)"
   ]
  },
  {
   "cell_type": "code",
   "execution_count": null,
   "metadata": {},
   "outputs": [],
   "source": [
    "#These tests should pass silently. They takes no input.\n",
    "direct_test\n",
    "rank_test"
   ]
  },
  {
   "cell_type": "markdown",
   "metadata": {},
   "source": [
    "#### Extra Credit (*optional*)\n",
    "\n",
    "Replace all of this text with a brief explanation (~3 sentences) of: \n",
    "1. Your Python Background\n",
    "2. How your project went above and beyond the requirements of the project and/or how you challenged yourself to learn something new with the final project"
   ]
  }
 ],
 "metadata": {
  "kernelspec": {
   "display_name": "Python 3",
   "language": "python",
   "name": "python3"
  },
  "language_info": {
   "codemirror_mode": {
    "name": "ipython",
    "version": 3
   },
   "file_extension": ".py",
   "mimetype": "text/x-python",
   "name": "python",
   "nbconvert_exporter": "python",
   "pygments_lexer": "ipython3",
   "version": "3.8.6"
  }
 },
 "nbformat": 4,
 "nbformat_minor": 2
}
